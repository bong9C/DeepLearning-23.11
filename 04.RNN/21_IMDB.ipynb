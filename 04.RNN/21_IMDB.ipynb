{
  "nbformat": 4,
  "nbformat_minor": 0,
  "metadata": {
    "colab": {
      "provenance": []
    },
    "kernelspec": {
      "name": "python3",
      "display_name": "Python 3"
    },
    "language_info": {
      "name": "python"
    }
  },
  "cells": [
    {
      "cell_type": "markdown",
      "source": [
        "## IMDB 영화 리뷰 감성분석"
      ],
      "metadata": {
        "id": "WJBJN93uCgad"
      }
    },
    {
      "cell_type": "code",
      "execution_count": 25,
      "metadata": {
        "id": "3iKK1wgsCbYV"
      },
      "outputs": [],
      "source": [
        "import numpy as np\n",
        "import tensorflow as tf\n",
        "seed = 2023\n",
        "np.random.seed(seed)\n",
        "tf.random.set_seed(seed)"
      ]
    },
    {
      "cell_type": "code",
      "source": [
        "from tensorflow.keras.datasets import imdb\n",
        "(X_train, y_train),(X_test, y_test) = imdb.load_data()"
      ],
      "metadata": {
        "colab": {
          "base_uri": "https://localhost:8080/"
        },
        "id": "hxeHbjyUCyD5",
        "outputId": "7181cd11-79dd-4803-f054-e9b2ce1746d3"
      },
      "execution_count": 3,
      "outputs": [
        {
          "output_type": "stream",
          "name": "stdout",
          "text": [
            "Downloading data from https://storage.googleapis.com/tensorflow/tf-keras-datasets/imdb.npz\n",
            "17464789/17464789 [==============================] - 1s 0us/step\n"
          ]
        }
      ]
    },
    {
      "cell_type": "code",
      "source": [
        "len(X_train), len(X_test)"
      ],
      "metadata": {
        "colab": {
          "base_uri": "https://localhost:8080/"
        },
        "id": "Jbil7eE3DGF9",
        "outputId": "f889e310-54fe-4ffd-810f-a818f06caa83"
      },
      "execution_count": 4,
      "outputs": [
        {
          "output_type": "execute_result",
          "data": {
            "text/plain": [
              "(25000, 25000)"
            ]
          },
          "metadata": {},
          "execution_count": 4
        }
      ]
    },
    {
      "cell_type": "code",
      "source": [
        "# 등장한 단어수\n",
        "len(imdb.get_word_index())"
      ],
      "metadata": {
        "colab": {
          "base_uri": "https://localhost:8080/"
        },
        "id": "1Hz9WjVADSyB",
        "outputId": "42425790-e902-4490-b64d-2ea5311c6002"
      },
      "execution_count": 6,
      "outputs": [
        {
          "output_type": "stream",
          "name": "stdout",
          "text": [
            "Downloading data from https://storage.googleapis.com/tensorflow/tf-keras-datasets/imdb_word_index.json\n",
            "1641221/1641221 [==============================] - 0s 0us/step\n"
          ]
        },
        {
          "output_type": "execute_result",
          "data": {
            "text/plain": [
              "88584"
            ]
          },
          "metadata": {},
          "execution_count": 6
        }
      ]
    },
    {
      "cell_type": "code",
      "source": [
        "print(X_train[0])"
      ],
      "metadata": {
        "colab": {
          "base_uri": "https://localhost:8080/"
        },
        "id": "JzqRIpHlDw2c",
        "outputId": "e82c4498-ab2a-445c-a71d-44c536a24c54"
      },
      "execution_count": 8,
      "outputs": [
        {
          "output_type": "stream",
          "name": "stdout",
          "text": [
            "[1, 14, 22, 16, 43, 530, 973, 1622, 1385, 65, 458, 4468, 66, 3941, 4, 173, 36, 256, 5, 25, 100, 43, 838, 112, 50, 670, 22665, 9, 35, 480, 284, 5, 150, 4, 172, 112, 167, 21631, 336, 385, 39, 4, 172, 4536, 1111, 17, 546, 38, 13, 447, 4, 192, 50, 16, 6, 147, 2025, 19, 14, 22, 4, 1920, 4613, 469, 4, 22, 71, 87, 12, 16, 43, 530, 38, 76, 15, 13, 1247, 4, 22, 17, 515, 17, 12, 16, 626, 18, 19193, 5, 62, 386, 12, 8, 316, 8, 106, 5, 4, 2223, 5244, 16, 480, 66, 3785, 33, 4, 130, 12, 16, 38, 619, 5, 25, 124, 51, 36, 135, 48, 25, 1415, 33, 6, 22, 12, 215, 28, 77, 52, 5, 14, 407, 16, 82, 10311, 8, 4, 107, 117, 5952, 15, 256, 4, 31050, 7, 3766, 5, 723, 36, 71, 43, 530, 476, 26, 400, 317, 46, 7, 4, 12118, 1029, 13, 104, 88, 4, 381, 15, 297, 98, 32, 2071, 56, 26, 141, 6, 194, 7486, 18, 4, 226, 22, 21, 134, 476, 26, 480, 5, 144, 30, 5535, 18, 51, 36, 28, 224, 92, 25, 104, 4, 226, 65, 16, 38, 1334, 88, 12, 16, 283, 5, 16, 4472, 113, 103, 32, 15, 16, 5345, 19, 178, 32]\n"
          ]
        }
      ]
    },
    {
      "cell_type": "code",
      "source": [
        "# 리뷰 최대/평균 길이\n",
        "max(len(s) for s in X_train),sum(len(s) for s in X_train) / len(X_train)\n"
      ],
      "metadata": {
        "colab": {
          "base_uri": "https://localhost:8080/"
        },
        "id": "D3LwMEtfDU4y",
        "outputId": "452bdec5-b721-4a5c-c6fb-1b1fc0aa3b6e"
      },
      "execution_count": 9,
      "outputs": [
        {
          "output_type": "execute_result",
          "data": {
            "text/plain": [
              "(2494, 238.71364)"
            ]
          },
          "metadata": {},
          "execution_count": 9
        }
      ]
    },
    {
      "cell_type": "markdown",
      "source": [
        "#### 1. LSTM 으로 감성분석\n",
        "- 단어 빈도수 기준 많이 사용되는 10,000 단어만 사용\n",
        "- 리뷰 한 문장의 단어수: 200"
      ],
      "metadata": {
        "id": "PCtrBxuiE8ZM"
      }
    },
    {
      "cell_type": "code",
      "source": [
        "from tensorflow.keras.models import Sequential, load_model\n",
        "from tensorflow.keras.layers import Embedding, LSTM, Dense\n",
        "from tensorflow.keras.callbacks import ModelCheckpoint, EarlyStopping\n",
        "from tensorflow.keras.preprocessing.sequence import pad_sequences\n"
      ],
      "metadata": {
        "id": "4bvz5EFWDv1r"
      },
      "execution_count": 12,
      "outputs": []
    },
    {
      "cell_type": "code",
      "source": [
        "num_words = 10000\n",
        "(X_train, y_train), (X_test, y_test) = imdb.load_data(num_words=num_words)"
      ],
      "metadata": {
        "id": "kwZXfqd3GScJ"
      },
      "execution_count": 13,
      "outputs": []
    },
    {
      "cell_type": "code",
      "source": [
        "max_len = 200\n",
        "X_train = pad_sequences(X_train, maxlen=max_len)\n",
        "X_test = pad_sequences(X_test, maxlen=max_len)\n",
        "X_train.shape, X_test.shape"
      ],
      "metadata": {
        "colab": {
          "base_uri": "https://localhost:8080/"
        },
        "id": "cXx-6A0kGjDr",
        "outputId": "a9e5446c-65d7-4e94-b51a-6a3e595d0561"
      },
      "execution_count": 14,
      "outputs": [
        {
          "output_type": "execute_result",
          "data": {
            "text/plain": [
              "((25000, 200), (25000, 200))"
            ]
          },
          "metadata": {},
          "execution_count": 14
        }
      ]
    },
    {
      "cell_type": "markdown",
      "source": [
        "- 모델\n",
        "  - Embedding vector size:100\n",
        "  - Lstm node 수: 128"
      ],
      "metadata": {
        "id": "SskiMqzEHQNE"
      }
    },
    {
      "cell_type": "code",
      "source": [
        "model = Sequential([\n",
        "    Embedding(num_words, 100, input_length=max_len),\n",
        "    LSTM(128),    # activation=tahn 은 디폴트로 잡혀있어 생략가능\n",
        "    Dense(1, activation='sigmoid')\n",
        "])\n",
        "model.summary()"
      ],
      "metadata": {
        "colab": {
          "base_uri": "https://localhost:8080/"
        },
        "id": "LoIUPcDqHOlL",
        "outputId": "313e4414-20a2-45ee-8783-1e8b49d6a1e0"
      },
      "execution_count": 17,
      "outputs": [
        {
          "output_type": "stream",
          "name": "stdout",
          "text": [
            "Model: \"sequential\"\n",
            "_________________________________________________________________\n",
            " Layer (type)                Output Shape              Param #   \n",
            "=================================================================\n",
            " embedding (Embedding)       (None, 200, 100)          1000000   \n",
            "                                                                 \n",
            " lstm (LSTM)                 (None, 128)               117248    \n",
            "                                                                 \n",
            " dense (Dense)               (None, 1)                 129       \n",
            "                                                                 \n",
            "=================================================================\n",
            "Total params: 1117377 (4.26 MB)\n",
            "Trainable params: 1117377 (4.26 MB)\n",
            "Non-trainable params: 0 (0.00 Byte)\n",
            "_________________________________________________________________\n"
          ]
        }
      ]
    },
    {
      "cell_type": "code",
      "source": [
        "model.compile('adam', 'binary_crossentropy', ['accuracy'])"
      ],
      "metadata": {
        "id": "eZIXhTziJQdO"
      },
      "execution_count": 18,
      "outputs": []
    },
    {
      "cell_type": "code",
      "source": [
        "model_path = 'best-imdb-lstm.h5'\n",
        "mc = ModelCheckpoint(model_path, save_best_only=True, verbose=1)\n",
        "es = EarlyStopping(patience=5)"
      ],
      "metadata": {
        "id": "m7CRS1urH83J"
      },
      "execution_count": 19,
      "outputs": []
    },
    {
      "cell_type": "code",
      "source": [
        "hist = model.fit(\n",
        "    X_train, y_train, validation_split=0.2,epochs=30, batch_size=64, callbacks=[mc,es]\n",
        ")"
      ],
      "metadata": {
        "colab": {
          "base_uri": "https://localhost:8080/"
        },
        "id": "BbHV6FdHIqqA",
        "outputId": "c457ff38-018a-4c04-d447-d54abfd8fb54"
      },
      "execution_count": 20,
      "outputs": [
        {
          "output_type": "stream",
          "name": "stdout",
          "text": [
            "Epoch 1/30\n",
            "313/313 [==============================] - ETA: 0s - loss: 0.4337 - accuracy: 0.7976\n",
            "Epoch 1: val_loss improved from inf to 0.32347, saving model to best-imdb-lstm.h5\n",
            "313/313 [==============================] - 159s 495ms/step - loss: 0.4337 - accuracy: 0.7976 - val_loss: 0.3235 - val_accuracy: 0.8612\n",
            "Epoch 2/30\n"
          ]
        },
        {
          "output_type": "stream",
          "name": "stderr",
          "text": [
            "/usr/local/lib/python3.10/dist-packages/keras/src/engine/training.py:3079: UserWarning: You are saving your model as an HDF5 file via `model.save()`. This file format is considered legacy. We recommend using instead the native Keras format, e.g. `model.save('my_model.keras')`.\n",
            "  saving_api.save_model(\n"
          ]
        },
        {
          "output_type": "stream",
          "name": "stdout",
          "text": [
            "313/313 [==============================] - ETA: 0s - loss: 0.2560 - accuracy: 0.8996\n",
            "Epoch 2: val_loss did not improve from 0.32347\n",
            "313/313 [==============================] - 165s 529ms/step - loss: 0.2560 - accuracy: 0.8996 - val_loss: 0.3240 - val_accuracy: 0.8596\n",
            "Epoch 3/30\n",
            "313/313 [==============================] - ETA: 0s - loss: 0.1853 - accuracy: 0.9308\n",
            "Epoch 3: val_loss did not improve from 0.32347\n",
            "313/313 [==============================] - 164s 524ms/step - loss: 0.1853 - accuracy: 0.9308 - val_loss: 0.4121 - val_accuracy: 0.8692\n",
            "Epoch 4/30\n",
            "313/313 [==============================] - ETA: 0s - loss: 0.1346 - accuracy: 0.9519\n",
            "Epoch 4: val_loss did not improve from 0.32347\n",
            "313/313 [==============================] - 164s 525ms/step - loss: 0.1346 - accuracy: 0.9519 - val_loss: 0.4176 - val_accuracy: 0.8722\n",
            "Epoch 5/30\n",
            "313/313 [==============================] - ETA: 0s - loss: 0.1144 - accuracy: 0.9607\n",
            "Epoch 5: val_loss did not improve from 0.32347\n",
            "313/313 [==============================] - 165s 527ms/step - loss: 0.1144 - accuracy: 0.9607 - val_loss: 0.4002 - val_accuracy: 0.8430\n",
            "Epoch 6/30\n",
            "313/313 [==============================] - ETA: 0s - loss: 0.0944 - accuracy: 0.9673\n",
            "Epoch 6: val_loss did not improve from 0.32347\n",
            "313/313 [==============================] - 157s 501ms/step - loss: 0.0944 - accuracy: 0.9673 - val_loss: 0.4359 - val_accuracy: 0.8602\n"
          ]
        }
      ]
    },
    {
      "cell_type": "markdown",
      "source": [
        "#### 2. Conv1D 로 학습"
      ],
      "metadata": {
        "id": "RtghtDgjNFoe"
      }
    },
    {
      "cell_type": "code",
      "source": [
        "from tensorflow.keras.layers import Conv1D, MaxPooling1D, GlobalMaxPooling1D, Dropout"
      ],
      "metadata": {
        "id": "ACFLOuSsJUt7"
      },
      "execution_count": 23,
      "outputs": []
    },
    {
      "cell_type": "code",
      "source": [
        "model2 = Sequential([\n",
        "    Embedding(num_words, 100, input_length=max_len),\n",
        "    Dropout(0.5),\n",
        "    Conv1D(64, 7, activation='relu'),\n",
        "    MaxPooling1D(7),\n",
        "    Conv1D(64, 5, activation='relu'),\n",
        "    MaxPooling1D(5),\n",
        "    GlobalMaxPooling1D(),\n",
        "    Dense(1, 'sigmoid')\n",
        "])\n",
        "model2.summary()"
      ],
      "metadata": {
        "colab": {
          "base_uri": "https://localhost:8080/"
        },
        "id": "nrmr_FbFNeQd",
        "outputId": "e969386a-598e-4aed-8a6f-aaa6185a3ac6"
      },
      "execution_count": 26,
      "outputs": [
        {
          "output_type": "stream",
          "name": "stdout",
          "text": [
            "Model: \"sequential_1\"\n",
            "_________________________________________________________________\n",
            " Layer (type)                Output Shape              Param #   \n",
            "=================================================================\n",
            " embedding_1 (Embedding)     (None, 200, 100)          1000000   \n",
            "                                                                 \n",
            " dropout (Dropout)           (None, 200, 100)          0         \n",
            "                                                                 \n",
            " conv1d (Conv1D)             (None, 194, 64)           44864     \n",
            "                                                                 \n",
            " max_pooling1d (MaxPooling1  (None, 27, 64)            0         \n",
            " D)                                                              \n",
            "                                                                 \n",
            " conv1d_1 (Conv1D)           (None, 23, 64)            20544     \n",
            "                                                                 \n",
            " max_pooling1d_1 (MaxPoolin  (None, 4, 64)             0         \n",
            " g1D)                                                            \n",
            "                                                                 \n",
            " global_max_pooling1d (Glob  (None, 64)                0         \n",
            " alMaxPooling1D)                                                 \n",
            "                                                                 \n",
            " dense_1 (Dense)             (None, 1)                 65        \n",
            "                                                                 \n",
            "=================================================================\n",
            "Total params: 1065473 (4.06 MB)\n",
            "Trainable params: 1065473 (4.06 MB)\n",
            "Non-trainable params: 0 (0.00 Byte)\n",
            "_________________________________________________________________\n"
          ]
        }
      ]
    },
    {
      "cell_type": "code",
      "source": [
        "model2.compile('adam', 'binary_crossentropy', ['accuracy'])\n",
        "\n",
        "model_path2 = 'best-imdb-conv1d.h5'\n",
        "mc2 = ModelCheckpoint(model_path, save_best_only=True, verbose=1)\n",
        "es2 = EarlyStopping(patience=5)"
      ],
      "metadata": {
        "id": "J90l3nIyN6TK"
      },
      "execution_count": 27,
      "outputs": []
    },
    {
      "cell_type": "code",
      "source": [
        "hist2 = model2.fit(\n",
        "    X_train, y_train, validation_split=0.2,epochs=30, batch_size=64, callbacks=[mc2,es2]\n",
        ")"
      ],
      "metadata": {
        "colab": {
          "base_uri": "https://localhost:8080/"
        },
        "id": "hJDeqdlbOdwX",
        "outputId": "e5677432-0709-409e-92cc-b90366cb559b"
      },
      "execution_count": null,
      "outputs": [
        {
          "output_type": "stream",
          "name": "stdout",
          "text": [
            "Epoch 1/30\n",
            "313/313 [==============================] - ETA: 0s - loss: 0.5232 - accuracy: 0.7121\n",
            "Epoch 1: val_loss improved from inf to 0.36064, saving model to best-imdb-lstm.h5\n",
            "313/313 [==============================] - 45s 141ms/step - loss: 0.5232 - accuracy: 0.7121 - val_loss: 0.3606 - val_accuracy: 0.8462\n",
            "Epoch 2/30\n",
            "  1/313 [..............................] - ETA: 33s - loss: 0.3998 - accuracy: 0.8281"
          ]
        },
        {
          "output_type": "stream",
          "name": "stderr",
          "text": [
            "/usr/local/lib/python3.10/dist-packages/keras/src/engine/training.py:3079: UserWarning: You are saving your model as an HDF5 file via `model.save()`. This file format is considered legacy. We recommend using instead the native Keras format, e.g. `model.save('my_model.keras')`.\n",
            "  saving_api.save_model(\n"
          ]
        },
        {
          "output_type": "stream",
          "name": "stdout",
          "text": [
            "313/313 [==============================] - ETA: 0s - loss: 0.2966 - accuracy: 0.8772\n",
            "Epoch 2: val_loss improved from 0.36064 to 0.35343, saving model to best-imdb-lstm.h5\n",
            "313/313 [==============================] - 44s 140ms/step - loss: 0.2966 - accuracy: 0.8772 - val_loss: 0.3534 - val_accuracy: 0.8530\n",
            "Epoch 3/30\n",
            "313/313 [==============================] - ETA: 0s - loss: 0.2112 - accuracy: 0.9172\n",
            "Epoch 3: val_loss did not improve from 0.35343\n",
            "313/313 [==============================] - 42s 133ms/step - loss: 0.2112 - accuracy: 0.9172 - val_loss: 0.3859 - val_accuracy: 0.8472\n",
            "Epoch 4/30\n",
            "313/313 [==============================] - ETA: 0s - loss: 0.1541 - accuracy: 0.9424\n",
            "Epoch 4: val_loss did not improve from 0.35343\n",
            "313/313 [==============================] - 40s 129ms/step - loss: 0.1541 - accuracy: 0.9424 - val_loss: 0.4314 - val_accuracy: 0.8440\n",
            "Epoch 5/30\n",
            " 55/313 [====>.........................] - ETA: 37s - loss: 0.1023 - accuracy: 0.9651"
          ]
        }
      ]
    }
  ]
}